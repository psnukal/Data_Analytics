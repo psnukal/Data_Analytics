{
  "cells": [
    {
      "cell_type": "markdown",
      "metadata": {
        "id": "t3dzGrNoGm7D"
      },
      "source": [
        "#Name: Purvik S Nukal\n",
        "#SRN: PES1UG20CS315\n",
        "## PES University, Bangalore\n",
        "### Established under Karnataka Act No. 16 of 2013\n",
        "#### UE20CS312 - Data Analytics - Worksheet 3b - AR and MA models\n"
      ]
    },
    {
      "cell_type": "markdown",
      "metadata": {
        "id": "WkVSNPZ3Gm7G"
      },
      "source": [
        "### AR and MA models\n",
        "Auto Regressive and Moving Average are some of the most powerful, yet simple models for time-series forecasting. They can be used individually or together as ARMA. There are many other variations as well. We will use these models to forecast time-series in this worksheet"
      ]
    },
    {
      "cell_type": "markdown",
      "metadata": {
        "id": "bDbSAnbdGm7H"
      },
      "source": [
        "### Task\n",
        "Cryptocurrency is all the rage now and it uses the very exciting technology behind blockchain. People even claim it to be revolutionary. But if you have invested in cryptocurrencies, you know how volatile these cryptocurrencies really are! People have become billionaires by investing in crypto, and others have lost all their money on crypto. The most recent instance of this volatility was seen during the Terra Luna crash. Find more info about that [here](https://www.forbes.com/sites/lawrencewintermeyer/2022/05/25/from-hero-to-zero-how-terra-was-toppled-in-cryptos-darkest-hour/?sh=5a7e83bf389e) and [here](https://c.ndtvimg.com/2021-02/4lo9ita_elon-musk-dogecoin-meme_625x300_04_February_21.jpg) if you are interested.\n",
        "\n",
        "Your task is to effectively forecast the prices of **DogeCoin**, a crypto that started as a meme but now is a crypto that people actually invest in. DogeCoin prices however, are affected even by a single tweet by Elon Musk. The image below tweeted by Elon Musk shot up the prices of DogeCoin by 200%!\n",
        "\n",
        "<!-- ![image](https://c.ndtvimg.com/2021-02/4lo9ita_elon-musk-dogecoin-meme_625x300_04_February_21.jpg =100x100) -->\n",
        "<img src=\"https://c.ndtvimg.com/2021-02/4lo9ita_elon-musk-dogecoin-meme_625x300_04_February_21.jpg\" width=\"300\" height=\"200\" />\n",
        "\n",
        "You have been provided with the daily prices of DogeCoin from `15-08-2021` to `15-08-2022` a period of 1 year (365 days) in the file `doge.csv`\n",
        "\n",
        "Please download the data from this [Github repo](https://github.com/Data-Analytics-UE20CS312/Unit-3-Worksheets/blob/master/3b%20-%20AR%20and%20MA%20models/doge.csv)\n"
      ]
    },
    {
      "cell_type": "markdown",
      "metadata": {
        "id": "IEgcVMoyGm7I"
      },
      "source": [
        "### Data Dictionary\n",
        "\n",
        "Date - Date on which price was recorded     \n",
        "Price - Price of DogeCoin on a particular day"
      ]
    },
    {
      "cell_type": "markdown",
      "metadata": {
        "id": "-rqvPAJsGm7I"
      },
      "source": [
        "### Data Ingestion and Preprocessing\n",
        "- Read the file into a `Pandas` DataFrame object"
      ]
    },
    {
      "cell_type": "code",
      "source": [
        "pip install pmdarima"
      ],
      "metadata": {
        "colab": {
          "base_uri": "https://localhost:8080/",
          "height": 609
        },
        "id": "tj3GnMURMHod",
        "outputId": "1bed89ca-1aa1-429b-ff27-66b7f96dcffe"
      },
      "execution_count": 5,
      "outputs": [
        {
          "output_type": "stream",
          "name": "stdout",
          "text": [
            "Looking in indexes: https://pypi.org/simple, https://us-python.pkg.dev/colab-wheels/public/simple/\n",
            "Collecting pmdarima\n",
            "  Downloading pmdarima-2.0.1-cp37-cp37m-manylinux_2_17_x86_64.manylinux2014_x86_64.manylinux_2_28_x86_64.whl (1.8 MB)\n",
            "\u001b[K     |████████████████████████████████| 1.8 MB 20.0 MB/s \n",
            "\u001b[?25hRequirement already satisfied: urllib3 in /usr/local/lib/python3.7/dist-packages (from pmdarima) (1.24.3)\n",
            "Requirement already satisfied: pandas>=0.19 in /usr/local/lib/python3.7/dist-packages (from pmdarima) (1.3.5)\n",
            "Requirement already satisfied: scipy>=1.3.2 in /usr/local/lib/python3.7/dist-packages (from pmdarima) (1.7.3)\n",
            "Requirement already satisfied: Cython!=0.29.18,!=0.29.31,>=0.29 in /usr/local/lib/python3.7/dist-packages (from pmdarima) (0.29.32)\n",
            "Collecting statsmodels>=0.13.2\n",
            "  Downloading statsmodels-0.13.2-cp37-cp37m-manylinux_2_17_x86_64.manylinux2014_x86_64.whl (9.8 MB)\n",
            "\u001b[K     |████████████████████████████████| 9.8 MB 29.0 MB/s \n",
            "\u001b[?25hRequirement already satisfied: scikit-learn>=0.22 in /usr/local/lib/python3.7/dist-packages (from pmdarima) (1.0.2)\n",
            "Requirement already satisfied: setuptools!=50.0.0,>=38.6.0 in /usr/local/lib/python3.7/dist-packages (from pmdarima) (57.4.0)\n",
            "Requirement already satisfied: joblib>=0.11 in /usr/local/lib/python3.7/dist-packages (from pmdarima) (1.2.0)\n",
            "Requirement already satisfied: numpy>=1.21 in /usr/local/lib/python3.7/dist-packages (from pmdarima) (1.21.6)\n",
            "Requirement already satisfied: python-dateutil>=2.7.3 in /usr/local/lib/python3.7/dist-packages (from pandas>=0.19->pmdarima) (2.8.2)\n",
            "Requirement already satisfied: pytz>=2017.3 in /usr/local/lib/python3.7/dist-packages (from pandas>=0.19->pmdarima) (2022.4)\n",
            "Requirement already satisfied: six>=1.5 in /usr/local/lib/python3.7/dist-packages (from python-dateutil>=2.7.3->pandas>=0.19->pmdarima) (1.15.0)\n",
            "Requirement already satisfied: threadpoolctl>=2.0.0 in /usr/local/lib/python3.7/dist-packages (from scikit-learn>=0.22->pmdarima) (3.1.0)\n",
            "Requirement already satisfied: patsy>=0.5.2 in /usr/local/lib/python3.7/dist-packages (from statsmodels>=0.13.2->pmdarima) (0.5.2)\n",
            "Requirement already satisfied: packaging>=21.3 in /usr/local/lib/python3.7/dist-packages (from statsmodels>=0.13.2->pmdarima) (21.3)\n",
            "Requirement already satisfied: pyparsing!=3.0.5,>=2.0.2 in /usr/local/lib/python3.7/dist-packages (from packaging>=21.3->statsmodels>=0.13.2->pmdarima) (3.0.9)\n",
            "Installing collected packages: statsmodels, pmdarima\n",
            "  Attempting uninstall: statsmodels\n",
            "    Found existing installation: statsmodels 0.12.2\n",
            "    Uninstalling statsmodels-0.12.2:\n",
            "      Successfully uninstalled statsmodels-0.12.2\n",
            "Successfully installed pmdarima-2.0.1 statsmodels-0.13.2\n"
          ]
        },
        {
          "output_type": "display_data",
          "data": {
            "application/vnd.colab-display-data+json": {
              "pip_warning": {
                "packages": [
                  "statsmodels"
                ]
              }
            }
          },
          "metadata": {}
        }
      ]
    },
    {
      "cell_type": "code",
      "source": [
        "# importing library\n",
        "import pandas as pd\n",
        "import matplotlib.pyplot as plt\n",
        "import statsmodels.api as sm\n",
        "import sklearn\n",
        "from sklearn.linear_model import LinearRegression\n",
        "from statsmodels.tsa.stattools import adfuller\n",
        "import pmdarima as pm\n",
        "from statsmodels.tsa.arima.model import ARIMA"
      ],
      "metadata": {
        "id": "8PUHh2OeMCwl"
      },
      "execution_count": 6,
      "outputs": []
    },
    {
      "cell_type": "code",
      "execution_count": 7,
      "metadata": {
        "colab": {
          "base_uri": "https://localhost:8080/",
          "height": 206
        },
        "id": "i_m3Z7UYGm7J",
        "outputId": "983753f0-682e-421c-9aae-977c9f0d8fab"
      },
      "outputs": [
        {
          "output_type": "execute_result",
          "data": {
            "text/plain": [
              "         Date     Price\n",
              "0  2021-08-15  0.348722\n",
              "1  2021-08-16  0.349838\n",
              "2  2021-08-17  0.345208\n",
              "3  2021-08-18  0.331844\n",
              "4  2021-08-19  0.321622"
            ],
            "text/html": [
              "\n",
              "  <div id=\"df-2285cfb4-5eeb-41bd-ac44-660ecb3d3a97\">\n",
              "    <div class=\"colab-df-container\">\n",
              "      <div>\n",
              "<style scoped>\n",
              "    .dataframe tbody tr th:only-of-type {\n",
              "        vertical-align: middle;\n",
              "    }\n",
              "\n",
              "    .dataframe tbody tr th {\n",
              "        vertical-align: top;\n",
              "    }\n",
              "\n",
              "    .dataframe thead th {\n",
              "        text-align: right;\n",
              "    }\n",
              "</style>\n",
              "<table border=\"1\" class=\"dataframe\">\n",
              "  <thead>\n",
              "    <tr style=\"text-align: right;\">\n",
              "      <th></th>\n",
              "      <th>Date</th>\n",
              "      <th>Price</th>\n",
              "    </tr>\n",
              "  </thead>\n",
              "  <tbody>\n",
              "    <tr>\n",
              "      <th>0</th>\n",
              "      <td>2021-08-15</td>\n",
              "      <td>0.348722</td>\n",
              "    </tr>\n",
              "    <tr>\n",
              "      <th>1</th>\n",
              "      <td>2021-08-16</td>\n",
              "      <td>0.349838</td>\n",
              "    </tr>\n",
              "    <tr>\n",
              "      <th>2</th>\n",
              "      <td>2021-08-17</td>\n",
              "      <td>0.345208</td>\n",
              "    </tr>\n",
              "    <tr>\n",
              "      <th>3</th>\n",
              "      <td>2021-08-18</td>\n",
              "      <td>0.331844</td>\n",
              "    </tr>\n",
              "    <tr>\n",
              "      <th>4</th>\n",
              "      <td>2021-08-19</td>\n",
              "      <td>0.321622</td>\n",
              "    </tr>\n",
              "  </tbody>\n",
              "</table>\n",
              "</div>\n",
              "      <button class=\"colab-df-convert\" onclick=\"convertToInteractive('df-2285cfb4-5eeb-41bd-ac44-660ecb3d3a97')\"\n",
              "              title=\"Convert this dataframe to an interactive table.\"\n",
              "              style=\"display:none;\">\n",
              "        \n",
              "  <svg xmlns=\"http://www.w3.org/2000/svg\" height=\"24px\"viewBox=\"0 0 24 24\"\n",
              "       width=\"24px\">\n",
              "    <path d=\"M0 0h24v24H0V0z\" fill=\"none\"/>\n",
              "    <path d=\"M18.56 5.44l.94 2.06.94-2.06 2.06-.94-2.06-.94-.94-2.06-.94 2.06-2.06.94zm-11 1L8.5 8.5l.94-2.06 2.06-.94-2.06-.94L8.5 2.5l-.94 2.06-2.06.94zm10 10l.94 2.06.94-2.06 2.06-.94-2.06-.94-.94-2.06-.94 2.06-2.06.94z\"/><path d=\"M17.41 7.96l-1.37-1.37c-.4-.4-.92-.59-1.43-.59-.52 0-1.04.2-1.43.59L10.3 9.45l-7.72 7.72c-.78.78-.78 2.05 0 2.83L4 21.41c.39.39.9.59 1.41.59.51 0 1.02-.2 1.41-.59l7.78-7.78 2.81-2.81c.8-.78.8-2.07 0-2.86zM5.41 20L4 18.59l7.72-7.72 1.47 1.35L5.41 20z\"/>\n",
              "  </svg>\n",
              "      </button>\n",
              "      \n",
              "  <style>\n",
              "    .colab-df-container {\n",
              "      display:flex;\n",
              "      flex-wrap:wrap;\n",
              "      gap: 12px;\n",
              "    }\n",
              "\n",
              "    .colab-df-convert {\n",
              "      background-color: #E8F0FE;\n",
              "      border: none;\n",
              "      border-radius: 50%;\n",
              "      cursor: pointer;\n",
              "      display: none;\n",
              "      fill: #1967D2;\n",
              "      height: 32px;\n",
              "      padding: 0 0 0 0;\n",
              "      width: 32px;\n",
              "    }\n",
              "\n",
              "    .colab-df-convert:hover {\n",
              "      background-color: #E2EBFA;\n",
              "      box-shadow: 0px 1px 2px rgba(60, 64, 67, 0.3), 0px 1px 3px 1px rgba(60, 64, 67, 0.15);\n",
              "      fill: #174EA6;\n",
              "    }\n",
              "\n",
              "    [theme=dark] .colab-df-convert {\n",
              "      background-color: #3B4455;\n",
              "      fill: #D2E3FC;\n",
              "    }\n",
              "\n",
              "    [theme=dark] .colab-df-convert:hover {\n",
              "      background-color: #434B5C;\n",
              "      box-shadow: 0px 1px 3px 1px rgba(0, 0, 0, 0.15);\n",
              "      filter: drop-shadow(0px 1px 2px rgba(0, 0, 0, 0.3));\n",
              "      fill: #FFFFFF;\n",
              "    }\n",
              "  </style>\n",
              "\n",
              "      <script>\n",
              "        const buttonEl =\n",
              "          document.querySelector('#df-2285cfb4-5eeb-41bd-ac44-660ecb3d3a97 button.colab-df-convert');\n",
              "        buttonEl.style.display =\n",
              "          google.colab.kernel.accessAllowed ? 'block' : 'none';\n",
              "\n",
              "        async function convertToInteractive(key) {\n",
              "          const element = document.querySelector('#df-2285cfb4-5eeb-41bd-ac44-660ecb3d3a97');\n",
              "          const dataTable =\n",
              "            await google.colab.kernel.invokeFunction('convertToInteractive',\n",
              "                                                     [key], {});\n",
              "          if (!dataTable) return;\n",
              "\n",
              "          const docLinkHtml = 'Like what you see? Visit the ' +\n",
              "            '<a target=\"_blank\" href=https://colab.research.google.com/notebooks/data_table.ipynb>data table notebook</a>'\n",
              "            + ' to learn more about interactive tables.';\n",
              "          element.innerHTML = '';\n",
              "          dataTable['output_type'] = 'display_data';\n",
              "          await google.colab.output.renderOutput(dataTable, element);\n",
              "          const docLink = document.createElement('div');\n",
              "          docLink.innerHTML = docLinkHtml;\n",
              "          element.appendChild(docLink);\n",
              "        }\n",
              "      </script>\n",
              "    </div>\n",
              "  </div>\n",
              "  "
            ]
          },
          "metadata": {},
          "execution_count": 7
        }
      ],
      "source": [
        "import pandas as pd\n",
        "df = pd.read_csv('doge.csv')\n",
        "df.head()"
      ]
    },
    {
      "cell_type": "markdown",
      "metadata": {
        "id": "g9WgLYUTGm7L"
      },
      "source": [
        "## Prerequisites\n",
        "\n",
        "- Set up a new conda env or use an existing one that has `jupyter-notebook` and `ipykernel` installed (Conda envs come with these by default) [Reference](https://conda.io/projects/conda/en/latest/user-guide/getting-started.html)\n",
        "- Instead, you can also use a python venv and install `ipykernel` manually (We instead suggest using conda instead for easy setup) [Reference](https://docs.python.org/3/tutorial/venv.html)\n",
        "- Install the `statsmodels` package either in your Conda environment or Python venv. Refer to [the installation guide](https://www.statsmodels.org/dev/install.html)"
      ]
    },
    {
      "cell_type": "markdown",
      "metadata": {
        "id": "OQ3ebrAwGm7M"
      },
      "source": [
        "### Points\n",
        "\n",
        "The problems in this worksheet are for a total of 10 points with each problem having a different weightage. \n",
        "- Problem 0: 0.5 points\n",
        "- Problem 1: 1.5 point\n",
        "- Problem 2: 2 points\n",
        "- Problem 3: 1 points\n",
        "- Problem 4: 2 point\n",
        "- Problem 5: 1 point\n",
        "- Problem 6: 1 points\n"
      ]
    },
    {
      "cell_type": "markdown",
      "metadata": {
        "id": "d1gkJJoiGm7M"
      },
      "source": [
        "**HINTS FOR ALL PROBLEMS**: \n",
        "- Consider using `inplace=True` or assign it to new DataFrame, when using pandas transformations. If none of these are done, the DataFrame will remain the same\n",
        "- Search for functions in the `statsmodels` [documentation](https://www.statsmodels.org/dev/index.html)"
      ]
    },
    {
      "cell_type": "markdown",
      "metadata": {
        "id": "Av8ye8EIGm7N"
      },
      "source": [
        "### Problem 0 (0.5 point)\n",
        "- Set the index of DataFrame to the `Date` column to make it a time series"
      ]
    },
    {
      "cell_type": "code",
      "source": [
        "df.set_index('Date', inplace=True)\n",
        "df"
      ],
      "metadata": {
        "colab": {
          "base_uri": "https://localhost:8080/",
          "height": 455
        },
        "id": "qOjnNB-PMZe_",
        "outputId": "2406b650-4ab0-4ed0-9c4e-f2f74bf6e4a5"
      },
      "execution_count": 8,
      "outputs": [
        {
          "output_type": "execute_result",
          "data": {
            "text/plain": [
              "               Price\n",
              "Date                \n",
              "2021-08-15  0.348722\n",
              "2021-08-16  0.349838\n",
              "2021-08-17  0.345208\n",
              "2021-08-18  0.331844\n",
              "2021-08-19  0.321622\n",
              "...              ...\n",
              "2022-08-11  0.072978\n",
              "2022-08-12  0.073563\n",
              "2022-08-13  0.073670\n",
              "2022-08-14  0.079436\n",
              "2022-08-15  0.082882\n",
              "\n",
              "[366 rows x 1 columns]"
            ],
            "text/html": [
              "\n",
              "  <div id=\"df-5bec2622-ed47-4828-919a-4f687ae7d098\">\n",
              "    <div class=\"colab-df-container\">\n",
              "      <div>\n",
              "<style scoped>\n",
              "    .dataframe tbody tr th:only-of-type {\n",
              "        vertical-align: middle;\n",
              "    }\n",
              "\n",
              "    .dataframe tbody tr th {\n",
              "        vertical-align: top;\n",
              "    }\n",
              "\n",
              "    .dataframe thead th {\n",
              "        text-align: right;\n",
              "    }\n",
              "</style>\n",
              "<table border=\"1\" class=\"dataframe\">\n",
              "  <thead>\n",
              "    <tr style=\"text-align: right;\">\n",
              "      <th></th>\n",
              "      <th>Price</th>\n",
              "    </tr>\n",
              "    <tr>\n",
              "      <th>Date</th>\n",
              "      <th></th>\n",
              "    </tr>\n",
              "  </thead>\n",
              "  <tbody>\n",
              "    <tr>\n",
              "      <th>2021-08-15</th>\n",
              "      <td>0.348722</td>\n",
              "    </tr>\n",
              "    <tr>\n",
              "      <th>2021-08-16</th>\n",
              "      <td>0.349838</td>\n",
              "    </tr>\n",
              "    <tr>\n",
              "      <th>2021-08-17</th>\n",
              "      <td>0.345208</td>\n",
              "    </tr>\n",
              "    <tr>\n",
              "      <th>2021-08-18</th>\n",
              "      <td>0.331844</td>\n",
              "    </tr>\n",
              "    <tr>\n",
              "      <th>2021-08-19</th>\n",
              "      <td>0.321622</td>\n",
              "    </tr>\n",
              "    <tr>\n",
              "      <th>...</th>\n",
              "      <td>...</td>\n",
              "    </tr>\n",
              "    <tr>\n",
              "      <th>2022-08-11</th>\n",
              "      <td>0.072978</td>\n",
              "    </tr>\n",
              "    <tr>\n",
              "      <th>2022-08-12</th>\n",
              "      <td>0.073563</td>\n",
              "    </tr>\n",
              "    <tr>\n",
              "      <th>2022-08-13</th>\n",
              "      <td>0.073670</td>\n",
              "    </tr>\n",
              "    <tr>\n",
              "      <th>2022-08-14</th>\n",
              "      <td>0.079436</td>\n",
              "    </tr>\n",
              "    <tr>\n",
              "      <th>2022-08-15</th>\n",
              "      <td>0.082882</td>\n",
              "    </tr>\n",
              "  </tbody>\n",
              "</table>\n",
              "<p>366 rows × 1 columns</p>\n",
              "</div>\n",
              "      <button class=\"colab-df-convert\" onclick=\"convertToInteractive('df-5bec2622-ed47-4828-919a-4f687ae7d098')\"\n",
              "              title=\"Convert this dataframe to an interactive table.\"\n",
              "              style=\"display:none;\">\n",
              "        \n",
              "  <svg xmlns=\"http://www.w3.org/2000/svg\" height=\"24px\"viewBox=\"0 0 24 24\"\n",
              "       width=\"24px\">\n",
              "    <path d=\"M0 0h24v24H0V0z\" fill=\"none\"/>\n",
              "    <path d=\"M18.56 5.44l.94 2.06.94-2.06 2.06-.94-2.06-.94-.94-2.06-.94 2.06-2.06.94zm-11 1L8.5 8.5l.94-2.06 2.06-.94-2.06-.94L8.5 2.5l-.94 2.06-2.06.94zm10 10l.94 2.06.94-2.06 2.06-.94-2.06-.94-.94-2.06-.94 2.06-2.06.94z\"/><path d=\"M17.41 7.96l-1.37-1.37c-.4-.4-.92-.59-1.43-.59-.52 0-1.04.2-1.43.59L10.3 9.45l-7.72 7.72c-.78.78-.78 2.05 0 2.83L4 21.41c.39.39.9.59 1.41.59.51 0 1.02-.2 1.41-.59l7.78-7.78 2.81-2.81c.8-.78.8-2.07 0-2.86zM5.41 20L4 18.59l7.72-7.72 1.47 1.35L5.41 20z\"/>\n",
              "  </svg>\n",
              "      </button>\n",
              "      \n",
              "  <style>\n",
              "    .colab-df-container {\n",
              "      display:flex;\n",
              "      flex-wrap:wrap;\n",
              "      gap: 12px;\n",
              "    }\n",
              "\n",
              "    .colab-df-convert {\n",
              "      background-color: #E8F0FE;\n",
              "      border: none;\n",
              "      border-radius: 50%;\n",
              "      cursor: pointer;\n",
              "      display: none;\n",
              "      fill: #1967D2;\n",
              "      height: 32px;\n",
              "      padding: 0 0 0 0;\n",
              "      width: 32px;\n",
              "    }\n",
              "\n",
              "    .colab-df-convert:hover {\n",
              "      background-color: #E2EBFA;\n",
              "      box-shadow: 0px 1px 2px rgba(60, 64, 67, 0.3), 0px 1px 3px 1px rgba(60, 64, 67, 0.15);\n",
              "      fill: #174EA6;\n",
              "    }\n",
              "\n",
              "    [theme=dark] .colab-df-convert {\n",
              "      background-color: #3B4455;\n",
              "      fill: #D2E3FC;\n",
              "    }\n",
              "\n",
              "    [theme=dark] .colab-df-convert:hover {\n",
              "      background-color: #434B5C;\n",
              "      box-shadow: 0px 1px 3px 1px rgba(0, 0, 0, 0.15);\n",
              "      filter: drop-shadow(0px 1px 2px rgba(0, 0, 0, 0.3));\n",
              "      fill: #FFFFFF;\n",
              "    }\n",
              "  </style>\n",
              "\n",
              "      <script>\n",
              "        const buttonEl =\n",
              "          document.querySelector('#df-5bec2622-ed47-4828-919a-4f687ae7d098 button.colab-df-convert');\n",
              "        buttonEl.style.display =\n",
              "          google.colab.kernel.accessAllowed ? 'block' : 'none';\n",
              "\n",
              "        async function convertToInteractive(key) {\n",
              "          const element = document.querySelector('#df-5bec2622-ed47-4828-919a-4f687ae7d098');\n",
              "          const dataTable =\n",
              "            await google.colab.kernel.invokeFunction('convertToInteractive',\n",
              "                                                     [key], {});\n",
              "          if (!dataTable) return;\n",
              "\n",
              "          const docLinkHtml = 'Like what you see? Visit the ' +\n",
              "            '<a target=\"_blank\" href=https://colab.research.google.com/notebooks/data_table.ipynb>data table notebook</a>'\n",
              "            + ' to learn more about interactive tables.';\n",
              "          element.innerHTML = '';\n",
              "          dataTable['output_type'] = 'display_data';\n",
              "          await google.colab.output.renderOutput(dataTable, element);\n",
              "          const docLink = document.createElement('div');\n",
              "          docLink.innerHTML = docLinkHtml;\n",
              "          element.appendChild(docLink);\n",
              "        }\n",
              "      </script>\n",
              "    </div>\n",
              "  </div>\n",
              "  "
            ]
          },
          "metadata": {},
          "execution_count": 8
        }
      ]
    },
    {
      "cell_type": "markdown",
      "metadata": {
        "id": "d1ZyOpooGm7N"
      },
      "source": [
        "### Problem 1 (1.5 point)\n",
        "- Plot the time-series. Analyze the stationarity from the time-series. Provide reasoning for stationarity/non-stationarity based on visual inspection of time-series plot (0.5 point)"
      ]
    },
    {
      "cell_type": "code",
      "source": [
        "df.plot()"
      ],
      "metadata": {
        "colab": {
          "base_uri": "https://localhost:8080/",
          "height": 296
        },
        "id": "GQ0cm5zuMitG",
        "outputId": "39d9b9cd-3cbb-44a3-9e06-c7799d7df1bf"
      },
      "execution_count": 9,
      "outputs": [
        {
          "output_type": "execute_result",
          "data": {
            "text/plain": [
              "<matplotlib.axes._subplots.AxesSubplot at 0x7f47658a9f90>"
            ]
          },
          "metadata": {},
          "execution_count": 9
        },
        {
          "output_type": "display_data",
          "data": {
            "text/plain": [
              "<Figure size 432x288 with 1 Axes>"
            ],
            "image/png": "[encoded data removed]"
          },
          "metadata": {
            "needs_background": "light"
          }
        }
      ]
    },
    {
      "cell_type": "markdown",
      "source": [
        "A time series whose statistical properties change over time is \n",
        "called a non-stationary time series. Thus a time series with a trend \n",
        "or seasonality is non-stationary in nature. \n",
        "This is because the presence of trend or seasonality will affect the\n",
        "mean, variance and other properties at any given point in time.\n",
        "Since the given plot has a trend, it can be concluded that the given\n",
        "time series is not stationary.\n"
      ],
      "metadata": {
        "id": "7Qzv3A7EMo31"
      }
    },
    {
      "cell_type": "markdown",
      "metadata": {
        "id": "6XUIOiqsGm7O"
      },
      "source": [
        "- Plot the ACF plot of the Time series (upto 50 lags). Analyze the stationarity from ACF plot and provide reasoning (Hint: look at functions in `statsmodels` package) (1 Point)"
      ]
    },
    {
      "cell_type": "code",
      "source": [
        "sm.graphics.tsa.plot_acf(df.values.squeeze(), lags=50)\n",
        "plt.show()"
      ],
      "metadata": {
        "colab": {
          "base_uri": "https://localhost:8080/",
          "height": 281
        },
        "id": "gmj3RBwEMuTv",
        "outputId": "58c016b7-883c-4dba-ff82-9be44b045ff8"
      },
      "execution_count": 10,
      "outputs": [
        {
          "output_type": "display_data",
          "data": {
            "text/plain": [
              "<Figure size 432x288 with 1 Axes>"
            ],
            "image/png": "[encoded data removed]"
          },
          "metadata": {
            "needs_background": "light"
          }
        }
      ]
    },
    {
      "cell_type": "markdown",
      "source": [
        "Autocorrelation is the correlation of a signal with a delayed copy —\n",
        "or a lag — of itself as a function of the delay. \n",
        "When plotting the value of the ACF for increasing lags (a plot \n",
        "called a correlogram), the values tend to degrade to zero quickly for \n",
        "stationary time series, \n",
        "While for non-stationary data the degradation will happen more \n",
        "slowly.\n",
        "Since in the below ack plot the values tend to degreade to 0 slowly, \n",
        "it can be concluded that the time series is non-stationary."
      ],
      "metadata": {
        "id": "4rUro-ffM8_l"
      }
    },
    {
      "cell_type": "markdown",
      "source": [],
      "metadata": {
        "id": "eXTLK5BMMx6X"
      }
    },
    {
      "cell_type": "markdown",
      "metadata": {
        "id": "2YxnwvVsGm7O"
      },
      "source": [
        "### Problem 2 (2 point)\n",
        "\n",
        "- Run Augmented Dickey Fuller Test. Analyze whether the time-series is stationary, based on ADF results (1 point)     \n",
        "    \n",
        "Hint: Use the `print_adf_results` function below to print the results of the ADF function cleanly after obtaining results from the library function. Pass the results from library function to `print_adf_results` function"
      ]
    },
    {
      "cell_type": "markdown",
      "source": [
        "- If not stationary, apply appropriate transformations. Run the ADF test again to show stationarity after transformation (1 Point)\n",
        "      \n",
        "Hint: `diff` and `dropna`. Assign the DataFrame after transformation to a new DataFrame with name `transformed_df`"
      ],
      "metadata": {
        "id": "BlhISBbGNg5M"
      }
    },
    {
      "cell_type": "code",
      "execution_count": 11,
      "metadata": {
        "id": "Hpf8oNZwGm7P"
      },
      "outputs": [],
      "source": [
        "def print_adf_results(adf_result):\n",
        "    print('ADF Statistic: %f' % adf_result[0])\n",
        "    print('p-value: %f' % adf_result[1])\n",
        "    print('Critical Values:')\n",
        "    for key, value in adf_result[4].items():\n",
        "        print('\\t%s: %.3f' % (key, value))"
      ]
    },
    {
      "cell_type": "code",
      "source": [
        "adf_result = adfuller(df)\n",
        "print('ADF Statistic: %f' % adf_result[0])\n",
        "print('p-value: %f' % adf_result[1])\n",
        "print('Critical Values:')\n",
        "for key, value in adf_result[4].items():\n",
        " print('\\t%s: %.3f' % (key, value))\n",
        "transformed_df = df.diff().dropna()\n",
        "trans_adf = adfuller(transformed_df)\n",
        "print_adf_results(trans_adf)\n",
        "transformed_df.plot()"
      ],
      "metadata": {
        "colab": {
          "base_uri": "https://localhost:8080/",
          "height": 505
        },
        "id": "FAsb0i5pNLuS",
        "outputId": "3f5cd80b-76e5-4235-e040-2eedd69911bc"
      },
      "execution_count": 12,
      "outputs": [
        {
          "output_type": "stream",
          "name": "stdout",
          "text": [
            "ADF Statistic: -1.558935\n",
            "p-value: 0.504182\n",
            "Critical Values:\n",
            "\t1%: -3.449\n",
            "\t5%: -2.870\n",
            "\t10%: -2.571\n",
            "ADF Statistic: -5.593446\n",
            "p-value: 0.000001\n",
            "Critical Values:\n",
            "\t1%: -3.449\n",
            "\t5%: -2.870\n",
            "\t10%: -2.571\n"
          ]
        },
        {
          "output_type": "execute_result",
          "data": {
            "text/plain": [
              "<matplotlib.axes._subplots.AxesSubplot at 0x7f4763287410>"
            ]
          },
          "metadata": {},
          "execution_count": 12
        },
        {
          "output_type": "display_data",
          "data": {
            "text/plain": [
              "<Figure size 432x288 with 1 Axes>"
            ],
            "image/png": "[encoded data removed]"
          },
          "metadata": {
            "needs_background": "light"
          }
        }
      ]
    },
    {
      "cell_type": "code",
      "source": [
        "diff_2 = transformed_df.diff().dropna()\n",
        "trans_adf_2= adfuller(diff_2)\n",
        "print_adf_results(trans_adf_2)\n",
        "diff_2.plot()\n"
      ],
      "metadata": {
        "colab": {
          "base_uri": "https://localhost:8080/",
          "height": 400
        },
        "id": "o1wmIcYYNLbq",
        "outputId": "81df90f3-c7be-4c94-d0e2-a3206714a0ca"
      },
      "execution_count": 13,
      "outputs": [
        {
          "output_type": "stream",
          "name": "stdout",
          "text": [
            "ADF Statistic: -9.985707\n",
            "p-value: 0.000000\n",
            "Critical Values:\n",
            "\t1%: -3.449\n",
            "\t5%: -2.870\n",
            "\t10%: -2.571\n"
          ]
        },
        {
          "output_type": "execute_result",
          "data": {
            "text/plain": [
              "<matplotlib.axes._subplots.AxesSubplot at 0x7f4763222590>"
            ]
          },
          "metadata": {},
          "execution_count": 13
        },
        {
          "output_type": "display_data",
          "data": {
            "text/plain": [
              "<Figure size 432x288 with 1 Axes>"
            ],
            "image/png": "[encoded data removed]"
          },
          "metadata": {
            "needs_background": "light"
          }
        }
      ]
    },
    {
      "cell_type": "markdown",
      "source": [
        "since the value of p remains the same after the 2nd differentiation \n",
        "hence we should conclude that the value of d = 2 however since the p\u0002value for the 1st order is much closer to the threshold, \n",
        "so to be conservative, we will consider d as 1 and see how the model\n",
        "performs.\n"
      ],
      "metadata": {
        "id": "MTWF1GolNVxa"
      }
    },
    {
      "cell_type": "markdown",
      "metadata": {
        "id": "JRsUhvZ6Gm7P"
      },
      "source": [
        "### Problem 3 (1 point)\n",
        "\n",
        "- Plot both ACF and PACF plot. From these select optimal parameters for the ARIMA(p,q) model     \n",
        "\n",
        "Hint: Negative values that are significantly outside the Confidence interval are considered significant too.        \n",
        "Hint: `p+q = 3`"
      ]
    },
    {
      "cell_type": "code",
      "source": [
        "sm.graphics.tsa.plot_acf(transformed_df, lags=50)\n",
        "plt.show()"
      ],
      "metadata": {
        "colab": {
          "base_uri": "https://localhost:8080/",
          "height": 281
        },
        "id": "dUrPCFMRNnGs",
        "outputId": "c06d2f15-6d4a-4583-c703-cee371e6a200"
      },
      "execution_count": 14,
      "outputs": [
        {
          "output_type": "display_data",
          "data": {
            "text/plain": [
              "<Figure size 432x288 with 1 Axes>"
            ],
            "image/png": "[encoded data removed]"
          },
          "metadata": {
            "needs_background": "light"
          }
        }
      ]
    },
    {
      "cell_type": "markdown",
      "source": [
        "The resulting ACF plot is shown below. We notice that there are \n",
        "significant coefficients after lag 0. In fact, they are significant up\n",
        "until lag 1. \n",
        "We can see some significance around lag 2 and around lag 40, but \n",
        "this is likely due to chance, as the following coefficients are not \n",
        "significant.\n",
        "hence we takr the value of q as 1\n"
      ],
      "metadata": {
        "id": "e8I-YJLUNnrG"
      }
    },
    {
      "cell_type": "code",
      "source": [
        "sm.graphics.tsa.plot_pacf(transformed_df, lags=50, method = 'ywm')\n",
        "plt.show()\n"
      ],
      "metadata": {
        "colab": {
          "base_uri": "https://localhost:8080/",
          "height": 281
        },
        "id": "nCuAqp4VNwLT",
        "outputId": "164bd3f3-79e2-4084-dd05-9d7c4edce098"
      },
      "execution_count": 15,
      "outputs": [
        {
          "output_type": "display_data",
          "data": {
            "text/plain": [
              "<Figure size 432x288 with 1 Axes>"
            ],
            "image/png": "[encoded data removed]"
          },
          "metadata": {
            "needs_background": "light"
          }
        }
      ]
    },
    {
      "cell_type": "markdown",
      "source": [
        "it is given that p + q = 3 in the question. Since q was concluded to\n",
        "be 1, hence we find p using 3 - q = 2."
      ],
      "metadata": {
        "id": "YuZ1yE98N1hu"
      }
    },
    {
      "cell_type": "markdown",
      "metadata": {
        "id": "tWvErmD3Gm7Q"
      },
      "source": [
        "### Problem 4 (2 point)\n",
        "- Write a function to forecast values using only AR(p) model (2 Points)     \n",
        "Only use `pandas` functions and Linear Regression from `sklearn`. [LR documentation](https://scikit-learn.org/stable/modules/generated/sklearn.linear_model.LinearRegression.html)      \n",
        "\n",
        "Hint: Create p new columns in a new DataFrame that is a copy of `transformed_df`       \n",
        "Each new column has lagged value of Price. `Price_t-i` (From `Price_t-1` upto `Price_t-p`)      \n",
        "Look at the `shift` function in pandas to create these new columns [Link](https://pandas.pydata.org/docs/reference/api/pandas.DataFrame.shift.html)"
      ]
    },
    {
      "cell_type": "code",
      "execution_count": 20,
      "metadata": {
        "colab": {
          "base_uri": "https://localhost:8080/",
          "height": 865
        },
        "id": "UVxfUdVFGm7Q",
        "outputId": "15ef2107-5166-49f9-b5f5-fc8467d7f6f3"
      },
      "outputs": [
        {
          "output_type": "stream",
          "name": "stderr",
          "text": [
            "/usr/local/lib/python3.7/dist-packages/statsmodels/tsa/base/tsa_model.py:527: ValueWarning: No frequency information was provided, so inferred frequency D will be used.\n",
            "  inferred_freq = False\n",
            "/usr/local/lib/python3.7/dist-packages/statsmodels/tsa/base/tsa_model.py:527: ValueWarning: No frequency information was provided, so inferred frequency D will be used.\n",
            "  inferred_freq = False\n",
            "/usr/local/lib/python3.7/dist-packages/statsmodels/tsa/base/tsa_model.py:527: ValueWarning: No frequency information was provided, so inferred frequency D will be used.\n",
            "  inferred_freq = False\n",
            "/usr/local/lib/python3.7/dist-packages/statsmodels/base/model.py:568: ConvergenceWarning: Maximum Likelihood optimization failed to converge. Check mle_retvals\n",
            "  maxiter=maxiter,\n"
          ]
        },
        {
          "output_type": "execute_result",
          "data": {
            "text/plain": [
              "<class 'statsmodels.iolib.summary.Summary'>\n",
              "\"\"\"\n",
              "                               SARIMAX Results                                \n",
              "==============================================================================\n",
              "Dep. Variable:                  Price   No. Observations:                  366\n",
              "Model:                 ARIMA(2, 2, 1)   Log Likelihood                1386.624\n",
              "Date:                Sat, 08 Oct 2022   AIC                          -2765.248\n",
              "Time:                        15:32:57   BIC                          -2749.660\n",
              "Sample:                    08-15-2021   HQIC                         -2759.053\n",
              "                         - 08-15-2022                                         \n",
              "Covariance Type:                  opg                                         \n",
              "==============================================================================\n",
              "                 coef    std err          z      P>|z|      [0.025      0.975]\n",
              "------------------------------------------------------------------------------\n",
              "ar.L1          0.5818      0.045     13.008      0.000       0.494       0.669\n",
              "ar.L2         -0.3485      0.039     -9.011      0.000      -0.424      -0.273\n",
              "ma.L1         -0.9408      0.021    -45.423      0.000      -0.981      -0.900\n",
              "sigma2      2.824e-05      1e-06     28.159      0.000    2.63e-05    3.02e-05\n",
              "===================================================================================\n",
              "Ljung-Box (L1) (Q):                   1.12   Jarque-Bera (JB):              1283.36\n",
              "Prob(Q):                              0.29   Prob(JB):                         0.00\n",
              "Heteroskedasticity (H):               0.16   Skew:                             0.66\n",
              "Prob(H) (two-sided):                  0.00   Kurtosis:                        12.10\n",
              "===================================================================================\n",
              "\n",
              "Warnings:\n",
              "[1] Covariance matrix calculated using the outer product of gradients (complex-step).\n",
              "\"\"\""
            ],
            "text/html": [
              "<table class=\"simpletable\">\n",
              "<caption>SARIMAX Results</caption>\n",
              "<tr>\n",
              "  <th>Dep. Variable:</th>         <td>Price</td>      <th>  No. Observations:  </th>    <td>366</td>   \n",
              "</tr>\n",
              "<tr>\n",
              "  <th>Model:</th>            <td>ARIMA(2, 2, 1)</td>  <th>  Log Likelihood     </th> <td>1386.624</td> \n",
              "</tr>\n",
              "<tr>\n",
              "  <th>Date:</th>            <td>Sat, 08 Oct 2022</td> <th>  AIC                </th> <td>-2765.248</td>\n",
              "</tr>\n",
              "<tr>\n",
              "  <th>Time:</th>                <td>15:32:57</td>     <th>  BIC                </th> <td>-2749.660</td>\n",
              "</tr>\n",
              "<tr>\n",
              "  <th>Sample:</th>             <td>08-15-2021</td>    <th>  HQIC               </th> <td>-2759.053</td>\n",
              "</tr>\n",
              "<tr>\n",
              "  <th></th>                   <td>- 08-15-2022</td>   <th>                     </th>     <td> </td>    \n",
              "</tr>\n",
              "<tr>\n",
              "  <th>Covariance Type:</th>        <td>opg</td>       <th>                     </th>     <td> </td>    \n",
              "</tr>\n",
              "</table>\n",
              "<table class=\"simpletable\">\n",
              "<tr>\n",
              "     <td></td>       <th>coef</th>     <th>std err</th>      <th>z</th>      <th>P>|z|</th>  <th>[0.025</th>    <th>0.975]</th>  \n",
              "</tr>\n",
              "<tr>\n",
              "  <th>ar.L1</th>  <td>    0.5818</td> <td>    0.045</td> <td>   13.008</td> <td> 0.000</td> <td>    0.494</td> <td>    0.669</td>\n",
              "</tr>\n",
              "<tr>\n",
              "  <th>ar.L2</th>  <td>   -0.3485</td> <td>    0.039</td> <td>   -9.011</td> <td> 0.000</td> <td>   -0.424</td> <td>   -0.273</td>\n",
              "</tr>\n",
              "<tr>\n",
              "  <th>ma.L1</th>  <td>   -0.9408</td> <td>    0.021</td> <td>  -45.423</td> <td> 0.000</td> <td>   -0.981</td> <td>   -0.900</td>\n",
              "</tr>\n",
              "<tr>\n",
              "  <th>sigma2</th> <td> 2.824e-05</td> <td>    1e-06</td> <td>   28.159</td> <td> 0.000</td> <td> 2.63e-05</td> <td> 3.02e-05</td>\n",
              "</tr>\n",
              "</table>\n",
              "<table class=\"simpletable\">\n",
              "<tr>\n",
              "  <th>Ljung-Box (L1) (Q):</th>     <td>1.12</td> <th>  Jarque-Bera (JB):  </th> <td>1283.36</td>\n",
              "</tr>\n",
              "<tr>\n",
              "  <th>Prob(Q):</th>                <td>0.29</td> <th>  Prob(JB):          </th>  <td>0.00</td>  \n",
              "</tr>\n",
              "<tr>\n",
              "  <th>Heteroskedasticity (H):</th> <td>0.16</td> <th>  Skew:              </th>  <td>0.66</td>  \n",
              "</tr>\n",
              "<tr>\n",
              "  <th>Prob(H) (two-sided):</th>    <td>0.00</td> <th>  Kurtosis:          </th>  <td>12.10</td> \n",
              "</tr>\n",
              "</table><br/><br/>Warnings:<br/>[1] Covariance matrix calculated using the outer product of gradients (complex-step)."
            ]
          },
          "metadata": {},
          "execution_count": 20
        },
        {
          "output_type": "display_data",
          "data": {
            "text/plain": [
              "<Figure size 432x288 with 1 Axes>"
            ],
            "image/png": "[encoded data removed]"
          },
          "metadata": {
            "needs_background": "light"
          }
        }
      ],
      "source": [
        "#Add columns for lags\n",
        "arima_df = transformed_df.copy() \n",
        "#Set the value of p to an appropriate constant \n",
        "p = 2\n",
        "for i in range(1,p+1):\n",
        " arima_df[f'Price_t-{i}'] = arima_df['Price'].shift(i)\n",
        " arima_df.dropna(inplace=True)\n",
        "arima_df\n",
        "#Separate data into x_train and y_train for linear regression \n",
        "X_train = arima_df[['Price_t-1', 'Price_t-2']].values\n",
        "y_train = arima_df['Price'].values\n",
        "#run a linear regression model \n",
        "lr = LinearRegression()\n",
        "lr.fit(X_train, y_train)\n",
        "lr.coef_\n",
        "arima_df['AR_Prediction'] = X_train.dot(lr.coef_.T) + lr.intercept_\n",
        "arima_df\n",
        "arima_df.plot(y=['AR_Prediction', 'Price'])\n",
        "d = 2\n",
        "q = 1\n",
        "model = sm.tsa.arima.ARIMA(df, order=(p,d,q))\n",
        "res = model.fit()\n",
        "res.summary()"
      ]
    },
    {
      "cell_type": "markdown",
      "metadata": {
        "id": "dcjrJSThGm7T"
      },
      "source": [
        "Once you get predicitons like this using AR you would have to, undifference the predictions (which are differenced), but we will not deal with that here. \n",
        "For some hints on how to undifference the data to get actual predictions look [here](https://stackoverflow.com/questions/49903037/pandas-reverse-of-diff)"
      ]
    },
    {
      "cell_type": "markdown",
      "metadata": {
        "id": "tf2kwuBwGm7T"
      },
      "source": [
        "### Problem 5 (1 Point)\n",
        "\n",
        "Phew! Just handling AR(2) manually required us to difference, apply regression, undifference. \n",
        "Let's make all of this much easier with a simple library function\n",
        "\n",
        "- **Use the ARIMA function using parameters picked to forecast values (1 point)**       \n",
        "\n",
        "Hint: Look at ARIMA function the `statstmodels`. Pass the `p,d,q` inferred from the previous tasks          \n",
        "We **DO NOT** need to pass the `transformed_df` to the ARIMA function.          \n",
        "Pass the orirginal `df` as input to ARIMA function, with the `d` value inferred when Transforming the df to make it stationary      \n",
        "The ARIMA function automatically performs the differencing based on the `d` value passed        \n",
        "Store the `.fit()` results in an object named `res`"
      ]
    },
    {
      "cell_type": "code",
      "execution_count": 21,
      "metadata": {
        "colab": {
          "base_uri": "https://localhost:8080/",
          "height": 461
        },
        "id": "l1JcRNVQGm7T",
        "outputId": "3067b5c3-6a73-42a5-e4f3-ad89c902e45f"
      },
      "outputs": [
        {
          "output_type": "stream",
          "name": "stderr",
          "text": [
            "/usr/local/lib/python3.7/dist-packages/statsmodels/tsa/base/tsa_model.py:527: ValueWarning: No frequency information was provided, so inferred frequency D will be used.\n",
            "  inferred_freq = False\n",
            "/usr/local/lib/python3.7/dist-packages/statsmodels/tsa/base/tsa_model.py:527: ValueWarning: No frequency information was provided, so inferred frequency D will be used.\n",
            "  inferred_freq = False\n",
            "/usr/local/lib/python3.7/dist-packages/statsmodels/tsa/base/tsa_model.py:527: ValueWarning: No frequency information was provided, so inferred frequency D will be used.\n",
            "  inferred_freq = False\n",
            "/usr/local/lib/python3.7/dist-packages/statsmodels/base/model.py:568: ConvergenceWarning: Maximum Likelihood optimization failed to converge. Check mle_retvals\n",
            "  maxiter=maxiter,\n"
          ]
        },
        {
          "output_type": "execute_result",
          "data": {
            "text/plain": [
              "<matplotlib.axes._subplots.AxesSubplot at 0x7f4762f2ea50>"
            ]
          },
          "metadata": {},
          "execution_count": 21
        },
        {
          "output_type": "display_data",
          "data": {
            "text/plain": [
              "<Figure size 432x288 with 1 Axes>"
            ],
            "image/png": "[encoded data removed]"
          },
          "metadata": {
            "needs_background": "light"
          }
        }
      ],
      "source": [
        "model = ARIMA(df, order = (2, 2, 1))\n",
        "res = model.fit()\n",
        "df['Predictions'] = list(res.predict(0, len(df)-1))\n",
        "df.plot()\n",
        "res.forecast(20).plot()"
      ]
    },
    {
      "cell_type": "markdown",
      "metadata": {
        "id": "YE5XA08zGm7U"
      },
      "source": [
        "### Problem 6 (1 point)"
      ]
    },
    {
      "cell_type": "markdown",
      "metadata": {
        "id": "-bmgMt-AGm7U"
      },
      "source": [
        "- Evaluate the ARIMA model using Ljung Box test. Based on p-value infer if the Model shows lack of fit\n",
        "\n",
        "Hint: Pass the `res.resid` (Residuals of the ARIMA model) as input the Ljung-Box Text.      \n",
        "Pass `lags=[10]`. Set `return_df=True`\n",
        "For inference, refer back to the Null and Alternate Hypotheses of Ljung-Box test. (If p value high, Null Hypothesis is significant)"
      ]
    },
    {
      "cell_type": "code",
      "source": [
        "sm.stats.acorr_ljungbox(res.resid, lags=[10], return_df=True)"
      ],
      "metadata": {
        "colab": {
          "base_uri": "https://localhost:8080/",
          "height": 81
        },
        "id": "KLljTpjfPUUr",
        "outputId": "9a0264d3-31c7-4791-c299-d76727a3904e"
      },
      "execution_count": 22,
      "outputs": [
        {
          "output_type": "execute_result",
          "data": {
            "text/plain": [
              "      lb_stat     lb_pvalue\n",
              "10  49.342769  3.524425e-07"
            ],
            "text/html": [
              "\n",
              "  <div id=\"df-f9ca3b8d-eb47-415b-a66c-80c073612c45\">\n",
              "    <div class=\"colab-df-container\">\n",
              "      <div>\n",
              "<style scoped>\n",
              "    .dataframe tbody tr th:only-of-type {\n",
              "        vertical-align: middle;\n",
              "    }\n",
              "\n",
              "    .dataframe tbody tr th {\n",
              "        vertical-align: top;\n",
              "    }\n",
              "\n",
              "    .dataframe thead th {\n",
              "        text-align: right;\n",
              "    }\n",
              "</style>\n",
              "<table border=\"1\" class=\"dataframe\">\n",
              "  <thead>\n",
              "    <tr style=\"text-align: right;\">\n",
              "      <th></th>\n",
              "      <th>lb_stat</th>\n",
              "      <th>lb_pvalue</th>\n",
              "    </tr>\n",
              "  </thead>\n",
              "  <tbody>\n",
              "    <tr>\n",
              "      <th>10</th>\n",
              "      <td>49.342769</td>\n",
              "      <td>3.524425e-07</td>\n",
              "    </tr>\n",
              "  </tbody>\n",
              "</table>\n",
              "</div>\n",
              "      <button class=\"colab-df-convert\" onclick=\"convertToInteractive('df-f9ca3b8d-eb47-415b-a66c-80c073612c45')\"\n",
              "              title=\"Convert this dataframe to an interactive table.\"\n",
              "              style=\"display:none;\">\n",
              "        \n",
              "  <svg xmlns=\"http://www.w3.org/2000/svg\" height=\"24px\"viewBox=\"0 0 24 24\"\n",
              "       width=\"24px\">\n",
              "    <path d=\"M0 0h24v24H0V0z\" fill=\"none\"/>\n",
              "    <path d=\"M18.56 5.44l.94 2.06.94-2.06 2.06-.94-2.06-.94-.94-2.06-.94 2.06-2.06.94zm-11 1L8.5 8.5l.94-2.06 2.06-.94-2.06-.94L8.5 2.5l-.94 2.06-2.06.94zm10 10l.94 2.06.94-2.06 2.06-.94-2.06-.94-.94-2.06-.94 2.06-2.06.94z\"/><path d=\"M17.41 7.96l-1.37-1.37c-.4-.4-.92-.59-1.43-.59-.52 0-1.04.2-1.43.59L10.3 9.45l-7.72 7.72c-.78.78-.78 2.05 0 2.83L4 21.41c.39.39.9.59 1.41.59.51 0 1.02-.2 1.41-.59l7.78-7.78 2.81-2.81c.8-.78.8-2.07 0-2.86zM5.41 20L4 18.59l7.72-7.72 1.47 1.35L5.41 20z\"/>\n",
              "  </svg>\n",
              "      </button>\n",
              "      \n",
              "  <style>\n",
              "    .colab-df-container {\n",
              "      display:flex;\n",
              "      flex-wrap:wrap;\n",
              "      gap: 12px;\n",
              "    }\n",
              "\n",
              "    .colab-df-convert {\n",
              "      background-color: #E8F0FE;\n",
              "      border: none;\n",
              "      border-radius: 50%;\n",
              "      cursor: pointer;\n",
              "      display: none;\n",
              "      fill: #1967D2;\n",
              "      height: 32px;\n",
              "      padding: 0 0 0 0;\n",
              "      width: 32px;\n",
              "    }\n",
              "\n",
              "    .colab-df-convert:hover {\n",
              "      background-color: #E2EBFA;\n",
              "      box-shadow: 0px 1px 2px rgba(60, 64, 67, 0.3), 0px 1px 3px 1px rgba(60, 64, 67, 0.15);\n",
              "      fill: #174EA6;\n",
              "    }\n",
              "\n",
              "    [theme=dark] .colab-df-convert {\n",
              "      background-color: #3B4455;\n",
              "      fill: #D2E3FC;\n",
              "    }\n",
              "\n",
              "    [theme=dark] .colab-df-convert:hover {\n",
              "      background-color: #434B5C;\n",
              "      box-shadow: 0px 1px 3px 1px rgba(0, 0, 0, 0.15);\n",
              "      filter: drop-shadow(0px 1px 2px rgba(0, 0, 0, 0.3));\n",
              "      fill: #FFFFFF;\n",
              "    }\n",
              "  </style>\n",
              "\n",
              "      <script>\n",
              "        const buttonEl =\n",
              "          document.querySelector('#df-f9ca3b8d-eb47-415b-a66c-80c073612c45 button.colab-df-convert');\n",
              "        buttonEl.style.display =\n",
              "          google.colab.kernel.accessAllowed ? 'block' : 'none';\n",
              "\n",
              "        async function convertToInteractive(key) {\n",
              "          const element = document.querySelector('#df-f9ca3b8d-eb47-415b-a66c-80c073612c45');\n",
              "          const dataTable =\n",
              "            await google.colab.kernel.invokeFunction('convertToInteractive',\n",
              "                                                     [key], {});\n",
              "          if (!dataTable) return;\n",
              "\n",
              "          const docLinkHtml = 'Like what you see? Visit the ' +\n",
              "            '<a target=\"_blank\" href=https://colab.research.google.com/notebooks/data_table.ipynb>data table notebook</a>'\n",
              "            + ' to learn more about interactive tables.';\n",
              "          element.innerHTML = '';\n",
              "          dataTable['output_type'] = 'display_data';\n",
              "          await google.colab.output.renderOutput(dataTable, element);\n",
              "          const docLink = document.createElement('div');\n",
              "          docLink.innerHTML = docLinkHtml;\n",
              "          element.appendChild(docLink);\n",
              "        }\n",
              "      </script>\n",
              "    </div>\n",
              "  </div>\n",
              "  "
            ]
          },
          "metadata": {},
          "execution_count": 22
        }
      ]
    }
  ],
  "metadata": {
    "kernelspec": {
      "display_name": "Python 3",
      "language": "python",
      "name": "python3"
    },
    "language_info": {
      "codemirror_mode": {
        "name": "ipython",
        "version": 3
      },
      "file_extension": ".py",
      "mimetype": "text/x-python",
      "name": "python",
      "nbconvert_exporter": "python",
      "pygments_lexer": "ipython3",
      "version": "3.8.3"
    },
    "vscode": {
      "interpreter": {
        "hash": "b7b35159d5f3714c312bd281d072de1b51cb405758b497569d7b0919f3fae85c"
      }
    },
    "colab": {
      "provenance": []
    }
  },
  "nbformat": 4,
  "nbformat_minor": 0
}