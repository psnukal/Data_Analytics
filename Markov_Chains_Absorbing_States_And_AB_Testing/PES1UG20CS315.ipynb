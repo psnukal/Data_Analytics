{
  "cells": [
    {
      "cell_type": "markdown",
      "metadata": {
        "id": "gB1U9Azp7R7U"
      },
      "source": [
        "SRN: PES1UG20CS315\n",
        "\n",
        "Data Analytics worksheet 5\n",
        "\n",
        "Name: Purvik S Nukal"
      ]
    },
    {
      "cell_type": "markdown",
      "metadata": {
        "id": "lRdDbRiYoYPy"
      },
      "source": [
        "# PROBLEM 1"
      ]
    },
    {
      "cell_type": "code",
      "execution_count": null,
      "metadata": {
        "id": "rsBMPVR5zz5S"
      },
      "outputs": [],
      "source": [
        "import numpy as np\n",
        "import pandas as pd"
      ]
    },
    {
      "cell_type": "code",
      "execution_count": null,
      "metadata": {
        "id": "Ds6MlkOAz3kr"
      },
      "outputs": [],
      "source": [
        "enc_arr = np.array([\n",
        "    [0.002, 0.666, 0.31, 0, 0.022], [0.466, 0.102, 0.222, 0, 0.21], [0.022, 0.11, 0.502, 0, 0.366], [0, 0, 0, 1, 0], [0.11, 0.122, 0.066, 0, 0.702]\n",
        "])\n",
        "assert(enc_arr[0].sum() == 1.0)\n",
        "assert(enc_arr[1].sum() == 1.0)\n",
        "assert(enc_arr[2].sum() == 1.0)\n",
        "assert(enc_arr[3].sum() == 1.0)\n",
        "assert(enc_arr[4].sum() == 1.0)\n",
        "\n",
        "initial_prob = np.array([[0.3, 0.4, 0.1, 0.15, 0.05]])\n",
        "assert(initial_prob[0].sum() == 1.0)"
      ]
    },
    {
      "cell_type": "code",
      "execution_count": null,
      "metadata": {
        "id": "rU9vaUQunf4b"
      },
      "outputs": [],
      "source": [
        "matrix_A=np.array([0.3,0.4,0.1,0.15,0.05])\n",
        "matrix_B=np.array([\n",
        "    [0.002, 0.666, 0.31, 0, 0.022], [0.466, 0.102, 0.222, 0, 0.21], [0.022, 0.11, 0.502, 0, 0.366], [0, 0, 0, 1, 0], [0.11, 0.122, 0.066, 0, 0.702]\n",
        "])\n"
      ]
    },
    {
      "cell_type": "code",
      "execution_count": null,
      "metadata": {
        "colab": {
          "base_uri": "https://localhost:8080/"
        },
        "id": "Uuaq8cAzrO6O",
        "outputId": "f8317d5f-3a5b-478f-8dd1-3a1c353d3272"
      },
      "outputs": [
        {
          "data": {
            "text/plain": [
              "array([0.1947, 0.2577, 0.2353, 0.15  , 0.1623])"
            ]
          },
          "execution_count": 4,
          "metadata": {},
          "output_type": "execute_result"
        }
      ],
      "source": [
        "matrix_C=np.dot(matrix_A,matrix_B)\n",
        "matrix_C"
      ]
    },
    {
      "cell_type": "markdown",
      "metadata": {
        "id": "hfYmu-pnsHEK"
      },
      "source": [
        "2) The Markov Chain can be reduced as from state 4, no other stae can be reached."
      ]
    },
    {
      "cell_type": "code",
      "execution_count": null,
      "metadata": {
        "colab": {
          "base_uri": "https://localhost:8080/"
        },
        "id": "aHJtDwMTto2f",
        "outputId": "067f9730-a8b7-4357-d51a-f31779e794a3"
      },
      "outputs": [
        {
          "data": {
            "text/plain": [
              "array([0.1947, 0.2577, 0.2353, 0.15  , 0.1623])"
            ]
          },
          "execution_count": 5,
          "metadata": {},
          "output_type": "execute_result"
        }
      ],
      "source": [
        "#after 1 day\n",
        "matrix_C=np.dot(matrix_A,matrix_B)\n",
        "matrix_C"
      ]
    },
    {
      "cell_type": "code",
      "execution_count": null,
      "metadata": {
        "colab": {
          "base_uri": "https://localhost:8080/"
        },
        "id": "vIsH3m4ks0LG",
        "outputId": "0395272d-8a18-49c6-9ca2-b2099527408b"
      },
      "outputs": [
        {
          "data": {
            "text/plain": [
              "array([0.12071648, 0.16375093, 0.20080912, 0.15      , 0.36472347])"
            ]
          },
          "execution_count": 6,
          "metadata": {},
          "output_type": "execute_result"
        }
      ],
      "source": [
        "#after 6 days\n",
        "matrix_C = matrix_A\n",
        "for i in range(6):\n",
        "  matrix_C=np.dot(matrix_C,matrix_B)\n",
        "matrix_C"
      ]
    },
    {
      "cell_type": "code",
      "execution_count": null,
      "metadata": {
        "colab": {
          "base_uri": "https://localhost:8080/"
        },
        "id": "td3hmeI5tMas",
        "outputId": "445aa33a-02bd-4368-8cd5-8ddacd909a90"
      },
      "outputs": [
        {
          "data": {
            "text/plain": [
              "array([0.1214373 , 0.16411091, 0.19739717, 0.15      , 0.36705462])"
            ]
          },
          "execution_count": 7,
          "metadata": {},
          "output_type": "execute_result"
        }
      ],
      "source": [
        "#after 1000 days\n",
        "matrix_C=matrix_A\n",
        "for i in range(1000):\n",
        "  matrix_C=np.dot(matrix_C,matrix_B)\n",
        "matrix_C"
      ]
    },
    {
      "cell_type": "code",
      "execution_count": null,
      "metadata": {
        "colab": {
          "base_uri": "https://localhost:8080/"
        },
        "id": "OAKPrv0QtR89",
        "outputId": "e5f24e68-5b70-4318-e85b-63605b5b0a37"
      },
      "outputs": [
        {
          "data": {
            "text/plain": [
              "array([0.1214373 , 0.16411091, 0.19739717, 0.15      , 0.36705462])"
            ]
          },
          "execution_count": 9,
          "metadata": {},
          "output_type": "execute_result"
        }
      ],
      "source": [
        "#after 1001 days\n",
        "matrix_C=matrix_A\n",
        "for i in range(1001):\n",
        "  matrix_C=np.dot(matrix_C,matrix_B)\n",
        "matrix_C"
      ]
    },
    {
      "cell_type": "markdown",
      "metadata": {
        "id": "B3MV2FIV0OPO"
      },
      "source": [
        "4) We observe that the probabilities of a person going to a unit after 1000 days is equal to that after 1001 days, i.e it has reached steady state distribution."
      ]
    },
    {
      "cell_type": "markdown",
      "metadata": {
        "id": "XBV0yN_24f0N"
      },
      "source": [
        "---------------------------------------------------------------------------"
      ]
    },
    {
      "cell_type": "markdown",
      "metadata": {
        "id": "8SM_kSXxR7lI"
      },
      "source": [
        "# Problem 2"
      ]
    },
    {
      "cell_type": "markdown",
      "metadata": {
        "id": "pxUooIrDR9pJ"
      },
      "source": [
        "1) The chain is reducible as the 3rd and fourth chain cannot be reached."
      ]
    },
    {
      "cell_type": "code",
      "execution_count": null,
      "metadata": {
        "id": "h1NtxGHkSRCj"
      },
      "outputs": [],
      "source": [
        "trans_array = np.array([\n",
        "    [0.002, 0.666, 0.01, 0.020, 0.302], [0.466, 0.102, 0.02, 0.032, 0.38], [0.0, 0.0, 1, 0.0, 0.0], [0, 0, 0, 1, 0], [0.11, 0.122, 0.066, 0.004, 0.698]\n",
        "])\n",
        "\n",
        "assert(trans_array[0].sum() == 1.0)\n",
        "assert(trans_array[1].sum() == 1.0)\n",
        "assert(trans_array[2].sum() == 1.0)\n",
        "assert(trans_array[3].sum() == 1.0)\n",
        "assert(trans_array[4].sum() == 1.0)\n",
        "\n",
        "state = np.array([[0.3, 0.4, 0.1, 0.15, 0.05]])\n",
        "assert(state[0].sum() == 1.0)"
      ]
    },
    {
      "cell_type": "code",
      "execution_count": null,
      "metadata": {
        "id": "H3Ur-djOSXpT"
      },
      "outputs": [],
      "source": [
        "matrix_A = np.array([[0.3, 0.4, 0.1, 0.15, 0.05]])\n",
        "\n",
        "matrix_B=np.array([\n",
        "    [0.002, 0.666, 0.01, 0.020, 0.302], [0.466, 0.102, 0.02, 0.032, 0.38], [0.0, 0.0, 1, 0.0, 0.0], [0, 0, 0, 1, 0], [0.11, 0.122, 0.066, 0.004, 0.698]\n",
        "])"
      ]
    },
    {
      "cell_type": "code",
      "execution_count": null,
      "metadata": {
        "colab": {
          "base_uri": "https://localhost:8080/"
        },
        "id": "DbnJK57dT4M4",
        "outputId": "476653fb-08d7-4d45-95e5-544c0de9ad71"
      },
      "outputs": [
        {
          "data": {
            "text/plain": [
              "array([[0.1925, 0.2467, 0.1143, 0.169 , 0.2775]])"
            ]
          },
          "execution_count": 13,
          "metadata": {},
          "output_type": "execute_result"
        }
      ],
      "source": [
        "#after 1 day\n",
        "matrix_C = np.dot(matrix_A,matrix_B)\n",
        "matrix_C"
      ]
    },
    {
      "cell_type": "code",
      "execution_count": null,
      "metadata": {
        "colab": {
          "base_uri": "https://localhost:8080/"
        },
        "id": "UV2GqMsUT4M5",
        "outputId": "e4edc852-0ae8-44d1-ea6e-3208f85d7e62"
      },
      "outputs": [
        {
          "data": {
            "text/plain": [
              "array([[0.0982811 , 0.12388067, 0.24785419, 0.21705012, 0.31293392]])"
            ]
          },
          "execution_count": 14,
          "metadata": {},
          "output_type": "execute_result"
        }
      ],
      "source": [
        "#after 6 days\n",
        "matrix_C=matrix_A\n",
        "for i in range(6):\n",
        "  matrix_C=np.dot(matrix_C,matrix_B)\n",
        "matrix_C"
      ]
    },
    {
      "cell_type": "code",
      "execution_count": null,
      "metadata": {
        "colab": {
          "base_uri": "https://localhost:8080/"
        },
        "id": "XK1BuIJdT4M5",
        "outputId": "1a5984fe-16c2-4556-b0aa-5415eca2d0aa"
      },
      "outputs": [
        {
          "data": {
            "text/plain": [
              "array([[8.97378472e-28, 1.13004326e-27, 6.60595331e-01, 3.39404669e-01,\n",
              "        2.87688168e-27]])"
            ]
          },
          "execution_count": 15,
          "metadata": {},
          "output_type": "execute_result"
        }
      ],
      "source": [
        "#after 1000 days\n",
        "matrix_C=matrix_A\n",
        "for i in range(1000):\n",
        "  matrix_C=np.dot(matrix_C,matrix_B)\n",
        "matrix_C"
      ]
    },
    {
      "cell_type": "code",
      "execution_count": null,
      "metadata": {
        "colab": {
          "base_uri": "https://localhost:8080/"
        },
        "id": "eRHTcjOWT4M6",
        "outputId": "f2dd3d47-f391-4965-a3d5-d367a92f78e1"
      },
      "outputs": [
        {
          "data": {
            "text/plain": [
              "array([[8.44851901e-28, 1.06389804e-27, 6.60595331e-01, 3.39404669e-01,\n",
              "        2.70848815e-27]])"
            ]
          },
          "execution_count": 16,
          "metadata": {},
          "output_type": "execute_result"
        }
      ],
      "source": [
        "#after 1001 days\n",
        "matrix_C=matrix_A\n",
        "for i in range(1001):\n",
        "  matrix_C=np.dot(matrix_C,matrix_B)\n",
        "matrix_C"
      ]
    },
    {
      "cell_type": "markdown",
      "metadata": {
        "id": "2DZIMNWJYbyN"
      },
      "source": [
        "3) There is a difference in the probabilities of a person going to a unit after 1000 and 1001 days."
      ]
    },
    {
      "cell_type": "code",
      "execution_count": null,
      "metadata": {
        "id": "QQ9IleUyYfVX"
      },
      "outputs": [],
      "source": [
        "a=np.array([[ 0 , 1 , 2 , 3], [ 4 , 5 , 6 , 7], [ 8,  9, 10, 11]])"
      ]
    },
    {
      "cell_type": "code",
      "execution_count": null,
      "metadata": {
        "colab": {
          "base_uri": "https://localhost:8080/"
        },
        "id": "4EyCfp1hYxbi",
        "outputId": "41127aff-0c05-4314-b5d1-97a20c0e2255"
      },
      "outputs": [
        {
          "data": {
            "text/plain": [
              "array([[0.1925, 0.2467, 0.1143, 0.169 , 0.2775]])"
            ]
          },
          "execution_count": 19,
          "metadata": {},
          "output_type": "execute_result"
        }
      ],
      "source": [
        "matrix_A = np.array([[0.3, 0.4, 0.1, 0.15, 0.05]])\n",
        "\n",
        "matrix_B=np.array([\n",
        "    [0.002, 0.666, 0.01, 0.020, 0.302], [0.466, 0.102, 0.02, 0.032, 0.38], [0.0, 0.0, 1, 0.0, 0.0], [0, 0, 0, 1, 0], \n",
        "    [0.11, 0.122, 0.066, 0.004, 0.698]\n",
        "])\n",
        "\n",
        "matrix_C = matrix_A @ matrix_B \n",
        "matrix_C"
      ]
    },
    {
      "cell_type": "markdown",
      "metadata": {
        "id": "Ywq4yZg-rgWm"
      },
      "source": [
        "4) P(14)*P(Major crimes)\n",
        "\n",
        "  = 0.02 x 0.3\n",
        "\n",
        "  = 0.006"
      ]
    },
    {
      "cell_type": "markdown",
      "metadata": {
        "id": "_7ePHHCfsCJU"
      },
      "source": [
        "**PROBLEM 3**"
      ]
    },
    {
      "cell_type": "code",
      "execution_count": null,
      "metadata": {
        "id": "pb6mAReaYxYI"
      },
      "outputs": [],
      "source": [
        "with_Amy = np.array([[0.002, 0.232, 0.31, 0.434, 0.022], [0.426, 0.102, 0.222, 0.04, 0.21], \n",
        "                     [0.03, 0.11, 0.20, 0.294, 0.366], [0.003, 0.176, 0.321, 0.3, 0.2], [0.11, 0.422, 0.166, 0.1, 0.202]])\n",
        "\n",
        "without_Amy = np.array([[0.11, 0.222, 0.092, 0.374, 0.202], [0.03, 0.11, 0.20, 0.294, 0.366], [0.002, 0.232, 0.31, 0.434, 0.022], \n",
        "                        [0.466, 0.102, 0.02, 0.032, 0.38], [0.003, 0.176, 0.321, 0.3, 0.2]])\n",
        "\n",
        "m_b = np.array([[0.3, 0.4, 0.1, 0.15, 0.05]])\n",
        "\n"
      ]
    },
    {
      "cell_type": "markdown",
      "metadata": {
        "id": "BVe9_7s5s4HW"
      },
      "source": [
        "1)To find new probabilities we calculate the first markov chain"
      ]
    },
    {
      "cell_type": "code",
      "execution_count": null,
      "metadata": {
        "colab": {
          "base_uri": "https://localhost:8080/"
        },
        "id": "qazPk3bEsYDJ",
        "outputId": "8f1e0fcb-147d-4879-e1e1-c2b1f7ef0c78"
      },
      "outputs": [
        {
          "data": {
            "text/plain": [
              "array([[0.17995, 0.1689 , 0.25825, 0.2256 , 0.1673 ]])"
            ]
          },
          "execution_count": 22,
          "metadata": {},
          "output_type": "execute_result"
        }
      ],
      "source": [
        "m_c = m_b@with_Amy\n",
        "m_c"
      ]
    },
    {
      "cell_type": "code",
      "execution_count": null,
      "metadata": {
        "colab": {
          "base_uri": "https://localhost:8080/"
        },
        "id": "kiNuiGbFslAh",
        "outputId": "cc07d9a6-178d-432a-e57f-5f6990c1fcf1"
      },
      "outputs": [
        {
          "data": {
            "text/plain": [
              "array([[0.11525, 0.1579 , 0.15765, 0.293  , 0.2762 ]])"
            ]
          },
          "execution_count": 23,
          "metadata": {},
          "output_type": "execute_result"
        }
      ],
      "source": [
        "m_c = m_b@without_Amy\n",
        "m_c"
      ]
    },
    {
      "cell_type": "markdown",
      "metadata": {
        "id": "E04Rly5wspdS"
      },
      "source": [
        "2) Santiago's presence caused a decrease in the feedback."
      ]
    },
    {
      "cell_type": "markdown",
      "metadata": {
        "id": "yIRftZpVujTb"
      },
      "source": [
        "3) Captain Holt is performing the chi squared test"
      ]
    },
    {
      "cell_type": "markdown",
      "metadata": {
        "id": "ATYiQHPFu1hS"
      },
      "source": [
        "4) We can perform chi squared test on the transition matrix and find chi squared value and subsequent p-value to see if the transition matrix forms a Markov chain."
      ]
    }
  ],
  "metadata": {
    "colab": {
      "provenance": []
    },
    "kernelspec": {
      "display_name": "Python 3",
      "language": "python",
      "name": "python3"
    },
    "language_info": {
      "codemirror_mode": {
        "name": "ipython",
        "version": 3
      },
      "file_extension": ".py",
      "mimetype": "text/x-python",
      "name": "python",
      "nbconvert_exporter": "python",
      "pygments_lexer": "ipython3",
      "version": "3.8.8"
    }
  },
  "nbformat": 4,
  "nbformat_minor": 0
}